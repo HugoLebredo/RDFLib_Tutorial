{
 "cells": [
  {
   "cell_type": "markdown",
   "metadata": {},
   "source": [
    "# RDFLib Tutorial\n",
    "\n",
    "![RDFLib logo](https://rdflib.readthedocs.io/en/stable/_static/RDFlib.png)\n",
    "\n",
    "**RDFLib** es un paquete de Python para trabajar con **RDF**. **RDFLib** contiene la mayoría de herramientas que se necesitan para trabajar con **RDF**. Incluye:\n",
    "\n",
    "- *Parseadores* y *serializadores* para **RDF/XML**, **N3**, **NTriples**, **N-Quads**, **Turtle** y **JSON-LD** (via plugin).\n",
    "- Una *interfaz gráfica* que puede ser respaldada por cualquiera de varias implementaciones de Store.\n",
    "- Una implementación de **SPARQL 1.1**. Pemite declarar consultas en el grafo."
   ]
  },
  {
   "cell_type": "markdown",
   "metadata": {},
   "source": [
    "## Instalación de RDFLib\n",
    "\n",
    "Según como quieras trabajar descomenta el correspondiente comando para instalar **RDFLib**."
   ]
  },
  {
   "cell_type": "code",
   "execution_count": null,
   "metadata": {},
   "outputs": [],
   "source": [
    "# pip install rdflib # Instalación local\n",
    "# !pip install rdflib # Instalación en Google Colab\n",
    "# conda install -c conda-forge rdflib # Instalación en Conda"
   ]
  },
  {
   "cell_type": "markdown",
   "metadata": {},
   "source": [
    "Comprobar que se la instalación ha sido exitosa."
   ]
  },
  {
   "cell_type": "code",
   "execution_count": null,
   "metadata": {},
   "outputs": [],
   "source": [
    "# pip show rdflib # Instalación local\n",
    "# !pip show rdflib # Instalación Google Colab"
   ]
  },
  {
   "cell_type": "markdown",
   "metadata": {},
   "source": [
    "# Ejemplo 1"
   ]
  },
  {
   "cell_type": "code",
   "execution_count": 2,
   "metadata": {},
   "outputs": [],
   "source": [
    "from rdflib import Graph"
   ]
  },
  {
   "cell_type": "code",
   "execution_count": 3,
   "metadata": {},
   "outputs": [],
   "source": [
    "# Inicializar un grafo\n",
    "g = Graph()"
   ]
  },
  {
   "cell_type": "code",
   "execution_count": null,
   "metadata": {},
   "outputs": [],
   "source": [
    "# Parsear un grafo de dbpedia en un archivo RDF\n",
    "g.parse('https://dbpedia.org/resource/Michael_Jackson')"
   ]
  },
  {
   "cell_type": "code",
   "execution_count": null,
   "metadata": {},
   "outputs": [],
   "source": [
    "# Recorro las primeras 10 tripletas\n",
    "for index, (sub,pred, obj) in enumerate(g):\n",
    "  print(sub, pred, obj)\n",
    "  if index == 10:\n",
    "    break"
   ]
  },
  {
   "cell_type": "code",
   "execution_count": null,
   "metadata": {},
   "outputs": [],
   "source": [
    "# Mostrar el tamaño del grafo\n",
    "print(f'El grafo tiene {len(g)} tripletas')"
   ]
  },
  {
   "cell_type": "code",
   "execution_count": null,
   "metadata": {},
   "outputs": [],
   "source": [
    "# Mostrar por pantalla todo el grafo serializado en turtle\n",
    "v = g.serialize(format=\"ttl\")\n",
    "print(v)"
   ]
  },
  {
   "cell_type": "code",
   "execution_count": null,
   "metadata": {},
   "outputs": [],
   "source": [
    "# Almacenar el grafo en formato RDF turtle en el archivo tbl.ttl\n",
    "print(g.serialize(destination=\"tbl.ttl\"))"
   ]
  },
  {
   "cell_type": "markdown",
   "metadata": {},
   "source": [
    "## Ejemplo 2"
   ]
  },
  {
   "cell_type": "code",
   "execution_count": 11,
   "metadata": {},
   "outputs": [],
   "source": [
    "from rdflib import Graph, Literal, RDF, URIRef\n",
    "from rdflib.namespace import FOAF, XSD\n",
    "\n",
    "# Crear un grafo\n",
    "g = Graph()"
   ]
  },
  {
   "cell_type": "code",
   "execution_count": 12,
   "metadata": {},
   "outputs": [
    {
     "data": {
      "text/plain": [
       "<Graph identifier=N87ef0dedb151460bb7b941029c863843 (<class 'rdflib.graph.Graph'>)>"
      ]
     },
     "execution_count": 12,
     "metadata": {},
     "output_type": "execute_result"
    }
   ],
   "source": [
    "# Creamos una RDF URI para utilizar como sujeto de varias tripletas\n",
    "\n",
    "maradona = URIRef(\"http://example.org/maradona\")\n",
    "\n",
    "# Añadimos nuevas tripletas utilizando el metodo add()\n",
    "\n",
    "g.add((maradona, RDF.type, FOAF.Person))\n",
    "g.add((maradona, FOAF.nick, Literal(\"El Pelusa\")))\n",
    "g.add((maradona, FOAF.name, Literal(\"Diego Armando Maradona\")))\n",
    "g.add((maradona, FOAF.mbox, URIRef(\"mailto:maradona@example.org\")))\n"
   ]
  },
  {
   "cell_type": "code",
   "execution_count": 13,
   "metadata": {},
   "outputs": [
    {
     "data": {
      "text/plain": [
       "<Graph identifier=N87ef0dedb151460bb7b941029c863843 (<class 'rdflib.graph.Graph'>)>"
      ]
     },
     "execution_count": 13,
     "metadata": {},
     "output_type": "execute_result"
    }
   ],
   "source": [
    "# Añadir otra persona\n",
    "\n",
    "ronaldo = URIRef(\"http://example.org/ronaldo\")\n",
    "\n",
    "# Añadimos nuevas tripletas utilizando el metodo add()\n",
    "\n",
    "g.add((ronaldo, RDF.type, FOAF.Person))\n",
    "g.add((ronaldo, FOAF.nick, Literal(\"El Fenomeno\", datatype=XSD.string)))\n",
    "g.add((ronaldo, FOAF.name, Literal(\"Ronaldo Nazario\")))\n",
    "g.add((ronaldo, FOAF.mbox, URIRef(\"mailto:r9@example.org\")))"
   ]
  },
  {
   "cell_type": "code",
   "execution_count": 14,
   "metadata": {},
   "outputs": [
    {
     "name": "stdout",
     "output_type": "stream",
     "text": [
      "http://example.org/ronaldo http://xmlns.com/foaf/0.1/name Ronaldo Nazario\n",
      "http://example.org/maradona http://www.w3.org/1999/02/22-rdf-syntax-ns#type http://xmlns.com/foaf/0.1/Person\n",
      "http://example.org/maradona http://xmlns.com/foaf/0.1/mbox mailto:maradona@example.org\n",
      "http://example.org/ronaldo http://xmlns.com/foaf/0.1/nick El Fenomeno\n",
      "http://example.org/ronaldo http://xmlns.com/foaf/0.1/mbox mailto:r9@example.org\n",
      "http://example.org/maradona http://xmlns.com/foaf/0.1/name Diego Armando Maradona\n",
      "http://example.org/maradona http://xmlns.com/foaf/0.1/nick El Pelusa\n",
      "http://example.org/ronaldo http://www.w3.org/1999/02/22-rdf-syntax-ns#type http://xmlns.com/foaf/0.1/Person\n"
     ]
    }
   ],
   "source": [
    "# Iterar sobre las tripletas almacenadas y mostrarlas\n",
    "\n",
    "for f, p, o in g:\n",
    "    print(f, p, o)"
   ]
  },
  {
   "cell_type": "code",
   "execution_count": null,
   "metadata": {},
   "outputs": [],
   "source": [
    "# De cada FOAF.Person que exista en el grafo, muestra por pantalla su nick\n",
    "\n",
    "for person in g.subjects(RDF.type, FOAF.Person):\n",
    "    for nick in g.objects(person, FOAF.nick):\n",
    "        print(nick)"
   ]
  },
  {
   "cell_type": "code",
   "execution_count": null,
   "metadata": {},
   "outputs": [],
   "source": [
    "# Enlazar el namespace FOAF a un prefijo para aumentar la legibilidad\n",
    "\n",
    "g.bind(\"foaf\", FOAF)\n",
    "\n",
    "# Mostrar el grafo en formato n3\n",
    "\n",
    "v = g.serialize(format=\"n3\")\n",
    "print(v)"
   ]
  },
  {
   "cell_type": "markdown",
   "metadata": {},
   "source": [
    "## Cargar y Guardar"
   ]
  },
  {
   "cell_type": "code",
   "execution_count": null,
   "metadata": {},
   "outputs": [],
   "source": [
    "# Instalar RDFLib\n",
    "\n",
    "# pip install rdflib\n",
    "# !pip install rdflib"
   ]
  },
  {
   "cell_type": "code",
   "execution_count": 2,
   "metadata": {},
   "outputs": [],
   "source": [
    "#Importar RDFLib\n",
    "\n",
    "import rdflib"
   ]
  },
  {
   "cell_type": "code",
   "execution_count": 5,
   "metadata": {},
   "outputs": [],
   "source": [
    "# Inicializar un grafo\n",
    "\n",
    "g = rdflib.Graph()"
   ]
  },
  {
   "cell_type": "code",
   "execution_count": null,
   "metadata": {},
   "outputs": [],
   "source": [
    "# Parsear un grafo de la web\n",
    "\n",
    "g.parse('https://dbpedia.org/resource/Python_(programming_language')"
   ]
  },
  {
   "cell_type": "code",
   "execution_count": 7,
   "metadata": {},
   "outputs": [
    {
     "name": "stdout",
     "output_type": "stream",
     "text": [
      "0\n"
     ]
    }
   ],
   "source": [
    "print(len(g))"
   ]
  },
  {
   "cell_type": "code",
   "execution_count": 10,
   "metadata": {},
   "outputs": [
    {
     "name": "stdout",
     "output_type": "stream",
     "text": [
      "Readme.md      grafos1.ipynb  \u001b[34mlib\u001b[m\u001b[m/           \u001b[34mshare\u001b[m\u001b[m/\n",
      "\u001b[34mbin\u001b[m\u001b[m/           \u001b[34minclude\u001b[m\u001b[m/       pyvenv.cfg     \u001b[34msrc\u001b[m\u001b[m/\n"
     ]
    }
   ],
   "source": [
    "# Vamos a listar los archivos del directorio de trabajo\n",
    "\n",
    "%ls"
   ]
  },
  {
   "cell_type": "code",
   "execution_count": null,
   "metadata": {},
   "outputs": [],
   "source": [
    "# Cargar un grafo a partir de un archivo\n",
    "\n",
    "h = rdflib.Graph()\n",
    "format_ = rdflib.util.guess_format('ejemplo.xml')\n",
    "h.parse('ejemplo.xml', format=format_)"
   ]
  },
  {
   "cell_type": "code",
   "execution_count": null,
   "metadata": {},
   "outputs": [],
   "source": [
    "print(f'el grafo h tiene {len(h)} tripletas')\n",
    "print(h.serialize())"
   ]
  },
  {
   "cell_type": "code",
   "execution_count": null,
   "metadata": {},
   "outputs": [],
   "source": [
    "for tripleta in h:\n",
    "    print(tripleta)"
   ]
  },
  {
   "cell_type": "code",
   "execution_count": 32,
   "metadata": {},
   "outputs": [],
   "source": [
    "data = '''\n",
    "<http://example.com/drewp> <http://www.w3.org/1999/02/22-rdf-syntax-ns#type> <http://xmlns.com/foaf/0.1/Person> .\n",
    "<http://example.com/drewp> <http://example.com/says> \"Hello World\" .\n",
    "'''"
   ]
  },
  {
   "cell_type": "code",
   "execution_count": 36,
   "metadata": {},
   "outputs": [
    {
     "name": "stdout",
     "output_type": "stream",
     "text": [
      "el grafo j tiene 2 tripletas\n"
     ]
    }
   ],
   "source": [
    "# Cargar un grafo a partir de texto\n",
    "\n",
    "j = rdflib.Graph()\n",
    "j.parse(data = data, format = 'n3')\n",
    "print(f'el grafo j tiene {len(j)} tripletas')"
   ]
  },
  {
   "cell_type": "code",
   "execution_count": 37,
   "metadata": {},
   "outputs": [
    {
     "name": "stdout",
     "output_type": "stream",
     "text": [
      "http://example.com/drewp http://example.com/says Hello World\n",
      "http://example.com/drewp http://www.w3.org/1999/02/22-rdf-syntax-ns#type http://xmlns.com/foaf/0.1/Person\n"
     ]
    }
   ],
   "source": [
    "for s, p, o in j:\n",
    "    print(s, p, o)"
   ]
  },
  {
   "cell_type": "code",
   "execution_count": 44,
   "metadata": {},
   "outputs": [
    {
     "ename": "AttributeError",
     "evalue": "'str' object has no attribute 'decode'",
     "output_type": "error",
     "traceback": [
      "\u001b[0;31m---------------------------------------------------------------------------\u001b[0m",
      "\u001b[0;31mAttributeError\u001b[0m                            Traceback (most recent call last)",
      "Cell \u001b[0;32mIn[44], line 1\u001b[0m\n\u001b[0;32m----> 1\u001b[0m j\u001b[39m.\u001b[39;49mserialize(\u001b[39mformat\u001b[39;49m\u001b[39m=\u001b[39;49m\u001b[39m\"\u001b[39;49m\u001b[39mttl\u001b[39;49m\u001b[39m\"\u001b[39;49m)\u001b[39m.\u001b[39;49mdecode(\u001b[39m'\u001b[39m\u001b[39mu8\u001b[39m\u001b[39m'\u001b[39m)\n",
      "\u001b[0;31mAttributeError\u001b[0m: 'str' object has no attribute 'decode'"
     ]
    }
   ],
   "source": [
    "j.serialize(format=\"ttl\").decode('u8')"
   ]
  }
 ],
 "metadata": {
  "kernelspec": {
   "display_name": "grafos_tutorial",
   "language": "python",
   "name": "python3"
  },
  "language_info": {
   "codemirror_mode": {
    "name": "ipython",
    "version": 3
   },
   "file_extension": ".py",
   "mimetype": "text/x-python",
   "name": "python",
   "nbconvert_exporter": "python",
   "pygments_lexer": "ipython3",
   "version": "3.11.4"
  },
  "orig_nbformat": 4
 },
 "nbformat": 4,
 "nbformat_minor": 2
}
