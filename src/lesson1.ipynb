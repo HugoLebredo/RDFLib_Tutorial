{
 "cells": [
  {
   "cell_type": "markdown",
   "metadata": {},
   "source": [
    "# Instalación dependencias en Google Colab\n",
    "!pip install rdflib\n",
    "!pip show rdflib"
   ]
  },
  {
   "cell_type": "markdown",
   "metadata": {},
   "source": [
    "## Ejercicios de programación\n",
    "\n",
    "### Ejercicio 1\n",
    "\n",
    "Representa las siguientes frases como tripletas. Ten en cuenta que algunas frases pueden producir varias tripletas.\n",
    "- La invesigación Mueller fue dirigida por Robert Mueller.\n",
    "- La investigación involucró a Paul Manafort, Rick Gates, George Papadopoulos, Michael Flynn, Michael Cohen, y Roger Stone.\n",
    "- Paul Manafort fue socio comercial de Rick Gates.\n",
    "- Fue el jefe de campaña de Donald Trump.\n",
    "- Fue acusado de lavado de dinero, evasión fiscal, cabildeo.\n",
    "- Fue condenado por fraude bancario y fiscal.\n",
    "- Se declaró culpable de conspiración.\n",
    "- Fue enviado a prisión.\n",
    "- Negoció un acuerdo de culpabilidad.\n",
    "- Rick Gates fue acusado de lavado de dinero, evasión de impuestos y cabildeo extranjero.\n",
    "- Se declaró culpable de conspiración y mentir al FBI."
   ]
  },
  {
   "cell_type": "code",
   "execution_count": null,
   "metadata": {},
   "outputs": [],
   "source": [
    "from rdflib import Graph, Namespace, Literal, XSD, BNode, URIRef, util\n",
    "from rdflib.collection import Collection"
   ]
  },
  {
   "cell_type": "code",
   "execution_count": 138,
   "metadata": {},
   "outputs": [
    {
     "data": {
      "text/plain": [
       "<Graph identifier=N1c4911c812374e3fb327b6b7ba5ad425 (<class 'rdflib.graph.Graph'>)>"
      ]
     },
     "execution_count": 138,
     "metadata": {},
     "output_type": "execute_result"
    }
   ],
   "source": [
    "# Inicializar un grafo\n",
    "g = Graph()\n",
    "\n",
    "# Añadir Namespaces\n",
    "ex = Namespace('http://example.org/')\n",
    "g.bind(\"ex\", ex) # bind permite atar un namespace definido por el usuario a un prefijo\n",
    "\n",
    "# ---- Añadir tripletas\n",
    "\n",
    "# La invesigación Mueller fue dirigida por Robert Mueller.\n",
    "g.add((ex.Investigacion_Muller, ex.dirigidaPor, ex.Robert_Muller))\n",
    "# La investigación involucró a Paul Manafort, Rick Gates, George Papadopoulos, Michael Flynn, Michael Cohen, y Roger Stone.\n",
    "g.add((ex.Investigacion_Muller, ex.involucro, ex.Paul_Manafort))\n",
    "g.add((ex.Investigacion_Muller, ex.involucro, ex.Rick_Gates))\n",
    "g.add((ex.Investigacion_Muller, ex.involucro, ex.George_Papadopoulos))\n",
    "g.add((ex.Investigacion_Muller, ex.involucro, ex.Michael_Flynn))\n",
    "g.add((ex.Investigacion_Muller, ex.involucro, ex.Michael_Cohen))\n",
    "g.add((ex.Investigacion_Muller, ex.involucro, ex.Roger_Stone))\n",
    "\n",
    "# ----- Paul Manafort\n",
    "# Paul Manafort fue socio comercial de Rick Gates.\n",
    "g.add((ex.Paul_Manafort,ex.socio_comercial,ex.Rick_Gates))\n",
    "# Fué el jefe de campaña de Donald Trump.\n",
    "g.add((ex.Paul_Manafort, ex.jefe_campaña, ex.Donald_Trump))\n",
    "# Fue acusado de lavado de dinero, evasión fiscal, cabildeo.\n",
    "g.add((ex.Paul_Manafort, ex.acusado, ex.LavadoDinero))\n",
    "g.add((ex.Paul_Manafort, ex.acusado, ex.EvasionFiscal))\n",
    "g.add((ex.Paul_Manafort, ex.acusado, ex.Cabildeo))\n",
    "# Fue condenado por fraude bancario y fiscal.\n",
    "g.add((ex.Paul_Manafort, ex.condenado, ex.FraudeBancario))\n",
    "g.add((ex.Paul_Manafort, ex.condenado, ex.FraudeFiscal))\n",
    "# Se declaró culpable de conspiración.\n",
    "g.add((ex.Paul_Manafort, ex.declaroCulpable, ex.Conspiracion))\n",
    "# Fue enviado a prisión.\n",
    "g.add((ex.Paul_Manafort, ex.enviado, ex.Prision))\n",
    "# Negoció un acuerdo de culpabilidad.\n",
    "g.add((ex.Paul_Manafort, ex.negocio, ex.AcuerdoCulpabilidad))\n",
    "\n",
    "# ----- Rick Gates\n",
    "# Rick Gates fue acusado de lavado de dinero, evasión de impuestos y cabildeo.\n",
    "g.add((ex.Rick_Gates, ex.acusado, ex.LavadoDinero))\n",
    "g.add((ex.Rick_Gates, ex.acusado, ex.EvasionFiscal))\n",
    "g.add((ex.Rick_Gates, ex.acusado, ex.Cabildeo))\n",
    "# Se declaró culpable de conspiración y mentir al FBI.\n",
    "g.add((ex.Rick_Gates, ex.declaroCulpable, ex.Conspiracion))\n",
    "g.add((ex.Rick_Gates, ex.declaroCulpable, ex.MentirAlFBI))"
   ]
  },
  {
   "cell_type": "markdown",
   "metadata": {},
   "source": [
    "### Ejercicio 2\n",
    "\n",
    "Utiliza el método serialize de rdflib.Graph para obtener el grafo en diferentes formatos (por pantalla o en un archivo)\n",
    "\n",
    "- **Turtle** (format='ttl')\n",
    "- **N-Triple** (format='nt')\n",
    "- **JSON-LD** (format='json-ld')\n",
    "- **RDF-XML** (format='xml')"
   ]
  },
  {
   "cell_type": "code",
   "execution_count": 139,
   "metadata": {},
   "outputs": [
    {
     "name": "stdout",
     "output_type": "stream",
     "text": [
      "@prefix ex: <http://example.org/> .\n",
      "\n",
      "ex:Investigacion_Muller ex:dirigidaPor ex:Robert_Muller ;\n",
      "    ex:involucro ex:George_Papadopoulos,\n",
      "        ex:Michael_Cohen,\n",
      "        ex:Michael_Flynn,\n",
      "        ex:Paul_Manafort,\n",
      "        ex:Rick_Gates,\n",
      "        ex:Roger_Stone .\n",
      "\n",
      "ex:Paul_Manafort ex:acusado ex:Cabildeo,\n",
      "        ex:EvasionFiscal,\n",
      "        ex:LavadoDinero ;\n",
      "    ex:condenado ex:FraudeBancario,\n",
      "        ex:FraudeFiscal ;\n",
      "    ex:declaroCulpable ex:Conspiracion ;\n",
      "    ex:enviado ex:Prision ;\n",
      "    ex:jefe_campaña ex:Donald_Trump ;\n",
      "    ex:negocio ex:AcuerdoCulpabilidad ;\n",
      "    ex:socio_comercial ex:Rick_Gates .\n",
      "\n",
      "ex:Rick_Gates ex:acusado ex:Cabildeo,\n",
      "        ex:EvasionFiscal,\n",
      "        ex:LavadoDinero ;\n",
      "    ex:declaroCulpable ex:Conspiracion,\n",
      "        ex:MentirAlFBI .\n",
      "\n",
      "\n"
     ]
    }
   ],
   "source": [
    "# Turtle\n",
    "\n",
    "print(g.serialize(format=\"ttl\"))"
   ]
  },
  {
   "cell_type": "code",
   "execution_count": 140,
   "metadata": {},
   "outputs": [
    {
     "name": "stdout",
     "output_type": "stream",
     "text": [
      "<http://example.org/Investigacion_Muller> <http://example.org/involucro> <http://example.org/George_Papadopoulos> .\n",
      "<http://example.org/Investigacion_Muller> <http://example.org/dirigidaPor> <http://example.org/Robert_Muller> .\n",
      "<http://example.org/Investigacion_Muller> <http://example.org/involucro> <http://example.org/Roger_Stone> .\n",
      "<http://example.org/Rick_Gates> <http://example.org/declaroCulpable> <http://example.org/Conspiracion> .\n",
      "<http://example.org/Investigacion_Muller> <http://example.org/involucro> <http://example.org/Rick_Gates> .\n",
      "<http://example.org/Investigacion_Muller> <http://example.org/involucro> <http://example.org/Michael_Cohen> .\n",
      "<http://example.org/Paul_Manafort> <http://example.org/enviado> <http://example.org/Prision> .\n",
      "<http://example.org/Rick_Gates> <http://example.org/declaroCulpable> <http://example.org/MentirAlFBI> .\n",
      "<http://example.org/Paul_Manafort> <http://example.org/condenado> <http://example.org/FraudeBancario> .\n",
      "<http://example.org/Paul_Manafort> <http://example.org/declaroCulpable> <http://example.org/Conspiracion> .\n",
      "<http://example.org/Paul_Manafort> <http://example.org/condenado> <http://example.org/FraudeFiscal> .\n",
      "<http://example.org/Paul_Manafort> <http://example.org/socio_comercial> <http://example.org/Rick_Gates> .\n",
      "<http://example.org/Rick_Gates> <http://example.org/acusado> <http://example.org/Cabildeo> .\n",
      "<http://example.org/Investigacion_Muller> <http://example.org/involucro> <http://example.org/Michael_Flynn> .\n",
      "<http://example.org/Paul_Manafort> <http://example.org/negocio> <http://example.org/AcuerdoCulpabilidad> .\n",
      "<http://example.org/Investigacion_Muller> <http://example.org/involucro> <http://example.org/Paul_Manafort> .\n",
      "<http://example.org/Rick_Gates> <http://example.org/acusado> <http://example.org/LavadoDinero> .\n",
      "<http://example.org/Rick_Gates> <http://example.org/acusado> <http://example.org/EvasionFiscal> .\n",
      "<http://example.org/Paul_Manafort> <http://example.org/acusado> <http://example.org/Cabildeo> .\n",
      "<http://example.org/Paul_Manafort> <http://example.org/jefe_campaña> <http://example.org/Donald_Trump> .\n",
      "<http://example.org/Paul_Manafort> <http://example.org/acusado> <http://example.org/EvasionFiscal> .\n",
      "<http://example.org/Paul_Manafort> <http://example.org/acusado> <http://example.org/LavadoDinero> .\n",
      "\n"
     ]
    }
   ],
   "source": [
    "# NT\n",
    "\n",
    "print(g.serialize(format=\"nt\"))"
   ]
  },
  {
   "cell_type": "code",
   "execution_count": 141,
   "metadata": {},
   "outputs": [
    {
     "name": "stdout",
     "output_type": "stream",
     "text": [
      "[\n",
      "  {\n",
      "    \"@id\": \"http://example.org/Investigacion_Muller\",\n",
      "    \"http://example.org/dirigidaPor\": [\n",
      "      {\n",
      "        \"@id\": \"http://example.org/Robert_Muller\"\n",
      "      }\n",
      "    ],\n",
      "    \"http://example.org/involucro\": [\n",
      "      {\n",
      "        \"@id\": \"http://example.org/Paul_Manafort\"\n",
      "      },\n",
      "      {\n",
      "        \"@id\": \"http://example.org/Rick_Gates\"\n",
      "      },\n",
      "      {\n",
      "        \"@id\": \"http://example.org/George_Papadopoulos\"\n",
      "      },\n",
      "      {\n",
      "        \"@id\": \"http://example.org/Michael_Flynn\"\n",
      "      },\n",
      "      {\n",
      "        \"@id\": \"http://example.org/Michael_Cohen\"\n",
      "      },\n",
      "      {\n",
      "        \"@id\": \"http://example.org/Roger_Stone\"\n",
      "      }\n",
      "    ]\n",
      "  },\n",
      "  {\n",
      "    \"@id\": \"http://example.org/Rick_Gates\",\n",
      "    \"http://example.org/acusado\": [\n",
      "      {\n",
      "        \"@id\": \"http://example.org/LavadoDinero\"\n",
      "      },\n",
      "      {\n",
      "        \"@id\": \"http://example.org/EvasionFiscal\"\n",
      "      },\n",
      "      {\n",
      "        \"@id\": \"http://example.org/Cabildeo\"\n",
      "      }\n",
      "    ],\n",
      "    \"http://example.org/declaroCulpable\": [\n",
      "      {\n",
      "        \"@id\": \"http://example.org/Conspiracion\"\n",
      "      },\n",
      "      {\n",
      "        \"@id\": \"http://example.org/MentirAlFBI\"\n",
      "      }\n",
      "    ]\n",
      "  },\n",
      "  {\n",
      "    \"@id\": \"http://example.org/Paul_Manafort\",\n",
      "    \"http://example.org/acusado\": [\n",
      "      {\n",
      "        \"@id\": \"http://example.org/LavadoDinero\"\n",
      "      },\n",
      "      {\n",
      "        \"@id\": \"http://example.org/EvasionFiscal\"\n",
      "      },\n",
      "      {\n",
      "        \"@id\": \"http://example.org/Cabildeo\"\n",
      "      }\n",
      "    ],\n",
      "    \"http://example.org/condenado\": [\n",
      "      {\n",
      "        \"@id\": \"http://example.org/FraudeBancario\"\n",
      "      },\n",
      "      {\n",
      "        \"@id\": \"http://example.org/FraudeFiscal\"\n",
      "      }\n",
      "    ],\n",
      "    \"http://example.org/declaroCulpable\": [\n",
      "      {\n",
      "        \"@id\": \"http://example.org/Conspiracion\"\n",
      "      }\n",
      "    ],\n",
      "    \"http://example.org/enviado\": [\n",
      "      {\n",
      "        \"@id\": \"http://example.org/Prision\"\n",
      "      }\n",
      "    ],\n",
      "    \"http://example.org/jefe_campaña\": [\n",
      "      {\n",
      "        \"@id\": \"http://example.org/Donald_Trump\"\n",
      "      }\n",
      "    ],\n",
      "    \"http://example.org/negocio\": [\n",
      "      {\n",
      "        \"@id\": \"http://example.org/AcuerdoCulpabilidad\"\n",
      "      }\n",
      "    ],\n",
      "    \"http://example.org/socio_comercial\": [\n",
      "      {\n",
      "        \"@id\": \"http://example.org/Rick_Gates\"\n",
      "      }\n",
      "    ]\n",
      "  }\n",
      "]\n"
     ]
    }
   ],
   "source": [
    "# JSON-LD\n",
    "\n",
    "print(g.serialize(format=\"json-ld\"))"
   ]
  },
  {
   "cell_type": "code",
   "execution_count": 142,
   "metadata": {},
   "outputs": [
    {
     "name": "stdout",
     "output_type": "stream",
     "text": [
      "<?xml version=\"1.0\" encoding=\"utf-8\"?>\n",
      "<rdf:RDF\n",
      "   xmlns:ex=\"http://example.org/\"\n",
      "   xmlns:rdf=\"http://www.w3.org/1999/02/22-rdf-syntax-ns#\"\n",
      ">\n",
      "  <rdf:Description rdf:about=\"http://example.org/Investigacion_Muller\">\n",
      "    <ex:dirigidaPor rdf:resource=\"http://example.org/Robert_Muller\"/>\n",
      "    <ex:involucro rdf:resource=\"http://example.org/Paul_Manafort\"/>\n",
      "    <ex:involucro rdf:resource=\"http://example.org/Rick_Gates\"/>\n",
      "    <ex:involucro rdf:resource=\"http://example.org/George_Papadopoulos\"/>\n",
      "    <ex:involucro rdf:resource=\"http://example.org/Michael_Flynn\"/>\n",
      "    <ex:involucro rdf:resource=\"http://example.org/Michael_Cohen\"/>\n",
      "    <ex:involucro rdf:resource=\"http://example.org/Roger_Stone\"/>\n",
      "  </rdf:Description>\n",
      "  <rdf:Description rdf:about=\"http://example.org/Rick_Gates\">\n",
      "    <ex:acusado rdf:resource=\"http://example.org/LavadoDinero\"/>\n",
      "    <ex:acusado rdf:resource=\"http://example.org/EvasionFiscal\"/>\n",
      "    <ex:acusado rdf:resource=\"http://example.org/Cabildeo\"/>\n",
      "    <ex:declaroCulpable rdf:resource=\"http://example.org/Conspiracion\"/>\n",
      "    <ex:declaroCulpable rdf:resource=\"http://example.org/MentirAlFBI\"/>\n",
      "  </rdf:Description>\n",
      "  <rdf:Description rdf:about=\"http://example.org/Paul_Manafort\">\n",
      "    <ex:socio_comercial rdf:resource=\"http://example.org/Rick_Gates\"/>\n",
      "    <ex:jefe_campaña rdf:resource=\"http://example.org/Donald_Trump\"/>\n",
      "    <ex:acusado rdf:resource=\"http://example.org/LavadoDinero\"/>\n",
      "    <ex:acusado rdf:resource=\"http://example.org/EvasionFiscal\"/>\n",
      "    <ex:acusado rdf:resource=\"http://example.org/Cabildeo\"/>\n",
      "    <ex:condenado rdf:resource=\"http://example.org/FraudeBancario\"/>\n",
      "    <ex:condenado rdf:resource=\"http://example.org/FraudeFiscal\"/>\n",
      "    <ex:declaroCulpable rdf:resource=\"http://example.org/Conspiracion\"/>\n",
      "    <ex:enviado rdf:resource=\"http://example.org/Prision\"/>\n",
      "    <ex:negocio rdf:resource=\"http://example.org/AcuerdoCulpabilidad\"/>\n",
      "  </rdf:Description>\n",
      "</rdf:RDF>\n",
      "\n"
     ]
    }
   ],
   "source": [
    "# XML\n",
    "\n",
    "print(g.serialize(format=\"xml\"))"
   ]
  },
  {
   "cell_type": "markdown",
   "metadata": {},
   "source": [
    "### Ejercicio 3\n",
    "\n",
    "Recorre todas las tripletas en el modelo que tengan como predicado *declaradoCulpable*. Si existieran inconsistencias pueden corregirse recorriendo las tripletas con bucles que corrijan los términos erroneos en cualquier parte del modelo. **Para corregir un término normalmente se elimina la vieja tripleta y se añade una nueva**.\n"
   ]
  },
  {
   "cell_type": "code",
   "execution_count": 143,
   "metadata": {},
   "outputs": [
    {
     "name": "stdout",
     "output_type": "stream",
     "text": [
      "http://example.org/Paul_Manafort http://example.org/declaroCulpable http://example.org/Conspiracion\n",
      "http://example.org/Rick_Gates http://example.org/declaroCulpable http://example.org/Conspiracion\n",
      "http://example.org/Rick_Gates http://example.org/declaroCulpable http://example.org/MentirAlFBI\n"
     ]
    }
   ],
   "source": [
    "for subject, object in g[ : ex.declaroCulpable : ]:\n",
    "    print(subject, ex.declaroCulpable, object)"
   ]
  },
  {
   "cell_type": "markdown",
   "metadata": {},
   "source": [
    "### Ejercicio 4\n",
    "\n",
    "Escribe una función que envíe tu grafo a https://www.ldf.fi/service/rdf-grapher para que lo renderice y guarda la imagen resultante en en un archivo.\n",
    "\n"
   ]
  },
  {
   "cell_type": "code",
   "execution_count": 144,
   "metadata": {},
   "outputs": [
    {
     "name": "stdout",
     "output_type": "stream",
     "text": [
      "<urllib3.response.HTTPResponse object at 0x110c53a00>\n"
     ]
    }
   ],
   "source": [
    "import requests\n",
    "import shutil\n",
    "\n",
    "def graphToImage(graph, imgName):\n",
    "    g = graph.serialize(format=\"ttl\")\n",
    "    data = {\"rdf\":g, \"from\":\"ttl\", \"to\":\"png\"}\n",
    "    link = \"http://www.ldf.fi/service/rdf-grapher\"\n",
    "    response = requests.get(link, params = data, stream=True)\n",
    "    print(response.raw)\n",
    "    with open(f'{imgName}.png', \"wb\") as fil:\n",
    "        shutil.copyfileobj(response.raw, fil)\n",
    "\n",
    "graphToImage(g,\"image1\")"
   ]
  },
  {
   "cell_type": "markdown",
   "metadata": {},
   "source": [
    "### Ejercicio 5\n",
    "Añade las siguientes tripletas al grafo:\n",
    "\n",
    "- Michael Cohen fue el abogado de Donald Trump.\n",
    "- Fue declarado culpable de mentir en el congreso.\n",
    "- Michael Flynn fue consejero de Donald Trump.\n",
    "- Fue delcarado culpable de mentir al FBI.\n",
    "- Negoció un acuerdo de culpabilidad.\n",
    "\n",
    "Si quieres puedes intentar utilizar tipos y propiedades de vocabularios estandard como **FOAF** (friend-of-a-friend) y **DC** (Dublin Core)."
   ]
  },
  {
   "cell_type": "code",
   "execution_count": 145,
   "metadata": {},
   "outputs": [
    {
     "data": {
      "text/plain": [
       "<Graph identifier=N1c4911c812374e3fb327b6b7ba5ad425 (<class 'rdflib.graph.Graph'>)>"
      ]
     },
     "execution_count": 145,
     "metadata": {},
     "output_type": "execute_result"
    }
   ],
   "source": [
    "# --- Michael Cohen ---\n",
    "#Michael Cohen was Donald Trump's attorney.\n",
    "g.add((ex.Michael_Cohen, ex.abogadoDe, ex.Donald_Trump))\n",
    "#He pleaded guilty to lying to the FBI.\n",
    "g.add((ex.Michael_Cohen, ex.declaradoCulpable, ex.MentirEnElCongreso))\n",
    "\n",
    "# --- Michael Flynn ---\n",
    "#Michael Flynn was adviser to Trump.\n",
    "g.add((ex.Michael_Flynn, ex.consejero, ex.Donald_Trump))\n",
    "#He pleaded guilty to lying to the FBI.\n",
    "g.add((ex.Michael_Flynn, ex.declaradoCulpable, ex.MentirAlFBI))\n",
    "# He negotiated a plea agreement.\n",
    "g.add((ex.Michael_Flynn, ex.negocio, ex.AcuerdoCulpabilidad)) "
   ]
  },
  {
   "cell_type": "markdown",
   "metadata": {},
   "source": [
    "### Ejercicio 6\n",
    "\n",
    "Según este artículo de [FRONTLINE](https://www.pbs.org/wgbh/frontline/article/the-mueller-investigation-explained-2/) las mentiras de Gates, Cohen y Flynn fueron diferentes y son descritas detalladamente.\n",
    "\n",
    "- ¿Como pueden representarse estas *diferentes afirmaciones de mentiras* en forma de tripletas?\n",
    "- ¿Como puede modificarse el grafo de conocimiemnto para que las tenga en cuenta? "
   ]
  },
  {
   "cell_type": "code",
   "execution_count": 146,
   "metadata": {},
   "outputs": [
    {
     "data": {
      "text/plain": [
       "<Graph identifier=N1c4911c812374e3fb327b6b7ba5ad425 (<class 'rdflib.graph.Graph'>)>"
      ]
     },
     "execution_count": 146,
     "metadata": {},
     "output_type": "execute_result"
    }
   ],
   "source": [
    "# ¿Como pueden representarse estas diferentes afirmaciones de mentiras en forma de tripletas?\n",
    "\n",
    "# 1 - Eliminar las siguientes tripletas para no tener duplicados\n",
    "g.remove((ex.Michael_Flynn, ex.declaradoCulpable, ex.MentirAlFBI)) \n",
    "g.remove((ex.Michael_Flynn, ex.negocio, ex.AcuerdoCulpabilidad))\n",
    "g.remove((ex.Rick_Gates, ex.acusado, ex.LavadoDinero))\n",
    "g.remove((ex.Rick_Gates, ex.acusado, ex.EvasionFiscal))\n",
    "g.remove((ex.Rick_Gates, ex.acusado, ex.Cabildeo))\n",
    "g.remove((ex.Rick_Gates, ex.declaroCulpable, ex.Conspiracion))\n",
    "g.remove((ex.Rick_Gates, ex.declaroCulpable, ex.MentirAlFBI))\n",
    "g.remove((ex.Michael_Cohen, ex.declaradoCulpable, ex.MentirEnElCongreso))\n",
    "\n",
    "\"\"\"\n",
    "2 - Crear grafo cuyo sujeto es un nodo en blanco.\n",
    "En este minigrafo damos forma a la entidad que queremos modelar\n",
    "OJO Es un grafo aparte del grafo principal.\n",
    "\"\"\"\n",
    "# --- Michael Flynn ---\n",
    "FlynnLying = BNode() \n",
    "g.add((FlynnLying, ex.delito, ex.MentirAlFBI))\n",
    "g.add((FlynnLying, ex.declaroCulpableEn, Literal(\"2017-12-1\", datatype=XSD.date)))\n",
    "g.add((FlynnLying, ex.mintioSobre, Literal(\"His communications with a former Russian ambassador during the presidential transition\", datatype=XSD.string)))\n",
    "g.add((FlynnLying, ex.acuerdoCulpabilidad, Literal(\"true\", datatype=XSD.boolean)))\n",
    "\n",
    "# 3 - Unión con el grafo principal\n",
    "g.add((ex.Michael_Flynn, ex.declaradoCulpableDe, FlynnLying))\n"
   ]
  },
  {
   "cell_type": "code",
   "execution_count": 147,
   "metadata": {},
   "outputs": [
    {
     "data": {
      "text/plain": [
       "<Graph identifier=N1c4911c812374e3fb327b6b7ba5ad425 (<class 'rdflib.graph.Graph'>)>"
      ]
     },
     "execution_count": 147,
     "metadata": {},
     "output_type": "execute_result"
    }
   ],
   "source": [
    "# --- Michael Cohen ---\n",
    "CohenLying = BNode()\n",
    "\n",
    "g.add((CohenLying, ex.delito, ex.MentirAlCongreso))\n",
    "g.add((CohenLying, ex.mentirSobre, ex.EstadoBienesRaicesTrump))\n",
    "g.add((CohenLying, ex.alegacionFiscalia, Literal(\"In an August 2017 letter Cohen sent to congressional committees investigating Russian election interference, he falsely stated that the project ended in January 2016\", datatype=XSD.string)))\n",
    "g.add((CohenLying, ex.alegacionMullerInvestigation, Literal(\"Cohen falsely stated that he had never agreed to travel to Russia for the real estate deal and that he did not recall any contact with the Russian government about the project\", datatype=XSD.string)))\n",
    "g.add((CohenLying, ex.declaradoCulpable, Literal(\"2018-11-29\", datatype=XSD.date)))\n",
    "g.add((CohenLying, ex.acuerdoCulpabilidad, Literal(\"true\", datatype=XSD.boolean)))\n",
    "g.add((ex.Michael_Cohen, ex.declaradoCulpableDe, CohenLying))"
   ]
  },
  {
   "cell_type": "code",
   "execution_count": 148,
   "metadata": {},
   "outputs": [
    {
     "data": {
      "text/plain": [
       "<Graph identifier=N1c4911c812374e3fb327b6b7ba5ad425 (<class 'rdflib.graph.Graph'>)>"
      ]
     },
     "execution_count": 148,
     "metadata": {},
     "output_type": "execute_result"
    }
   ],
   "source": [
    "# --- Rick Gates ---\n",
    "GatesLying = BNode()\n",
    "Delitos = BNode()\n",
    "Cargos = BNode()\n",
    "\n",
    "Collection(g, Delitos, [ex.MentirAlFBI, ex.Conspiracion])\n",
    "Collection(g, Cargos, [ex.Cabildeo, ex.lavadoDinero, ex.EvasionFiscal])\n",
    "\n",
    "g.add((GatesLying, ex.delito, Delitos))\n",
    "g.add((GatesLying, ex.acusadoDe, Cargos))\n",
    "g.add((GatesLying, ex.declaradoCulpable, Literal(\"2018-02-23\", datatype=XSD.date)))\n",
    "g.add((GatesLying, ex.acuerdoCulpabilidad, Literal(\"true\", datatype=XSD.boolean)))\n",
    "g.add((ex.Rick_Gates, ex.declaradoCulpableDe, GatesLying))"
   ]
  },
  {
   "cell_type": "markdown",
   "metadata": {},
   "source": [
    "### Ejercicio 7\n",
    "\n",
    "Enriquecer el grafo con nuevas tripletas con información sobre las direcciones de Donald Trump cuando fue presidente y su familia. Esta información se encuentra en la ruta 📁 src/data/Trump.ttl.\n",
    "\n",
    "Muestra el resultado por pantalla y guardalo en el directorio data. El nombre del archivo debe ser **result.ttl**."
   ]
  },
  {
   "cell_type": "code",
   "execution_count": 159,
   "metadata": {},
   "outputs": [
    {
     "name": "stderr",
     "output_type": "stream",
     "text": [
      "Failed to convert Literal lexical form to value. Datatype=http://www.w3.org/2001/XMLSchema#integer, Converter=<class 'int'>\n",
      "Traceback (most recent call last):\n",
      "  File \"/Users/hugo/Desarrollo/python/grafos_tutorial/lib/python3.11/site-packages/rdflib/term.py\", line 2084, in _castLexicalToPython\n",
      "    return conv_func(lexical)  # type: ignore[arg-type]\n",
      "           ^^^^^^^^^^^^^^^^^^\n",
      "ValueError: invalid literal for int() with base 10: '1 202 456 1414'\n"
     ]
    },
    {
     "name": "stdout",
     "output_type": "stream",
     "text": [
      "@prefix ex: <http://example.org/> .\n",
      "@prefix rdf: <http://www.w3.org/1999/02/22-rdf-syntax-ns#> .\n",
      "@prefix xsd: <http://www.w3.org/2001/XMLSchema#> .\n",
      "\n",
      "ex:Investigacion_Muller ex:dirigidaPor ex:Robert_Muller ;\n",
      "    ex:involucro ex:George_Papadopoulos,\n",
      "        ex:Michael_Cohen,\n",
      "        ex:Michael_Flynn,\n",
      "        ex:Paul_Manafort,\n",
      "        ex:Rick_Gates,\n",
      "        ex:Roger_Stone .\n",
      "\n",
      "ex:Michael_Cohen ex:abogadoDe ex:Donald_Trump ;\n",
      "    ex:declaradoCulpableDe [ ex:acuerdoCulpabilidad true ;\n",
      "            ex:alegacionFiscalia \"In an August 2017 letter Cohen sent to congressional committees investigating Russian election interference, he falsely stated that the project ended in January 2016\"^^xsd:string ;\n",
      "            ex:alegacionMullerInvestigation \"Cohen falsely stated that he had never agreed to travel to Russia for the real estate deal and that he did not recall any contact with the Russian government about the project\"^^xsd:string ;\n",
      "            ex:declaradoCulpable \"2018-11-29\"^^xsd:date ;\n",
      "            ex:delito ex:MentirAlCongreso ;\n",
      "            ex:mentirSobre ex:EstadoBienesRaicesTrump ] .\n",
      "\n",
      "ex:Michael_Flynn ex:consejero ex:Donald_Trump ;\n",
      "    ex:declaradoCulpableDe [ ex:acuerdoCulpabilidad true ;\n",
      "            ex:declaroCulpableEn \"2017-12-01\"^^xsd:date ;\n",
      "            ex:delito ex:MentirAlFBI ;\n",
      "            ex:mintioSobre \"His communications with a former Russian ambassador during the presidential transition\"^^xsd:string ] .\n",
      "\n",
      "ex:Paul_Manafort ex:acusado ex:Cabildeo,\n",
      "        ex:EvasionFiscal,\n",
      "        ex:LavadoDinero ;\n",
      "    ex:condenado ex:FraudeBancario,\n",
      "        ex:FraudeFiscal ;\n",
      "    ex:declaroCulpable ex:Conspiracion ;\n",
      "    ex:enviado ex:Prision ;\n",
      "    ex:jefe_campaña ex:Donald_Trump ;\n",
      "    ex:negocio ex:AcuerdoCulpabilidad ;\n",
      "    ex:socio_comercial ex:Rick_Gates .\n",
      "\n",
      "ex:Rick_Gates ex:declaradoCulpableDe [ ex:acuerdoCulpabilidad true ;\n",
      "            ex:acusadoDe ( ex:Cabildeo ex:lavadoDinero ex:EvasionFiscal ) ;\n",
      "            ex:declaradoCulpable \"2018-02-23\"^^xsd:date ;\n",
      "            ex:delito ( ex:MentirAlFBI ex:Conspiracion ) ] .\n",
      "\n",
      "ex:Donald_Trump ex:address [ ex:city ex:Palm_Beach ;\n",
      "            ex:country ex:United_States ;\n",
      "            ex:postalCode 33480 ;\n",
      "            ex:residence ex:Mar_a_Lago ;\n",
      "            ex:state ex:Florida ;\n",
      "            ex:streetName \"1100 S Ocean Blvd\"^^xsd:string ] ;\n",
      "    ex:fatherTo ( ex:Ivanka_Trump ex:Donald_Trump_Jr ex: ex:Tiffany_Trump ex:Eric_Trump ex:Barron_Trump ) ;\n",
      "    ex:marriedTo ex:Melania_Trump ;\n",
      "    ex:previousAddress [ ex:city ex:Washington_DC ;\n",
      "            ex:country ex:United_States ;\n",
      "            ex:phoneNumber \"1 202 456 1414\"^^xsd:integer ;\n",
      "            ex:postalCode 20500 ;\n",
      "            ex:residence ex:The_White_House ;\n",
      "            ex:streetName \"1600 Pennsylvania Ave.\"^^xsd:string ] .\n",
      "\n",
      "\n"
     ]
    }
   ],
   "source": [
    "# 1ª forma:\n",
    "# Crear un grafo a partir de las tripletas almacenadas en un archivo\n",
    "# Esta será la forma en la que vamos a trabajar\n",
    "\n",
    "h = Graph()\n",
    "\n",
    "h.parse(\"data/Trump.ttl\", format=\"ttl\")\n",
    "\n",
    "# En un nuevo grafo unimos los anteriores\n",
    "newGraph = g + h\n",
    "print(newGraph.serialize()) # Mostramos el grafo resultante\n",
    "\n",
    "# 2ª forma\n",
    "# Cargar las tripletas al grafo con el que estabamos trabajando\n",
    "\n",
    "# g.parse(\"data/Trump.ttl\", format=\"ttl\")"
   ]
  },
  {
   "cell_type": "code",
   "execution_count": 150,
   "metadata": {},
   "outputs": [],
   "source": [
    "# Guardar grafo en turtle\n",
    "def guardar_Grafo(g,name):\n",
    "    g.serialize(f'data/{name}.ttl', format=\"ttl\")\n",
    "\n",
    "guardar_Grafo(newGraph,\"result\")    "
   ]
  },
  {
   "cell_type": "code",
   "execution_count": 151,
   "metadata": {},
   "outputs": [
    {
     "name": "stdout",
     "output_type": "stream",
     "text": [
      "<urllib3.response.HTTPResponse object at 0x110bec700>\n"
     ]
    }
   ],
   "source": [
    "graphToImage(newGraph,\"image2\")"
   ]
  },
  {
   "cell_type": "markdown",
   "metadata": {},
   "source": [
    "### Ejercicio 8"
   ]
  },
  {
   "cell_type": "code",
   "execution_count": 163,
   "metadata": {},
   "outputs": [],
   "source": [
    "#Write a method (function) that starts with Donald Trump prints out a graph depth-first to show how the other graph nodes are connected to him\n",
    "visited_nodes = set()\n",
    "\n",
    "def create_Tree(model, nodes):\n",
    "    #Traverse the model breadth-first to create the tree.\n",
    "    global visited_nodes\n",
    "    tree = Graph()\n",
    "    children = set()\n",
    "    visited_nodes |= set(nodes)\n",
    "    for s, p, o in model:\n",
    "        if s in nodes and o not in visited_nodes:\n",
    "            tree.add((s, p, o))\n",
    "            visited_nodes.add(o)\n",
    "            children.add(o)\n",
    "        if o in nodes and s not in visited_nodes:\n",
    "            invp = URIRef(f'{p}_inv') #_inv represents inverse of\n",
    "            tree.add((o, invp, s))\n",
    "            visited_nodes.add(s)\n",
    "            children.add(s)\n",
    "    if len(children) > 0:\n",
    "        children_tree = create_Tree(model, children)\n",
    "        for triple in children_tree:\n",
    "            tree.add(triple)\n",
    "    return tree\n",
    "\n",
    "def print_Tree(tree, root, indent=0):\n",
    "    #Print the tree depth-first.\n",
    "    print(str(root))\n",
    "    for s, p, o in tree:\n",
    "        if s==root:\n",
    "            print('    '*indent + '  ' + str(p), end=' ')\n",
    "            print_Tree(tree, o, indent+1)\n",
    "\n"
   ]
  },
  {
   "cell_type": "code",
   "execution_count": 164,
   "metadata": {},
   "outputs": [
    {
     "name": "stdout",
     "output_type": "stream",
     "text": [
      "http://example.org/Donald_Trump\n",
      "  http://example.org/abogadoDe_inv http://example.org/Michael_Cohen\n",
      "      http://example.org/declaradoCulpableDe N8468730fd78449539fb63951848d394d\n",
      "          http://example.org/declaradoCulpable 2018-11-29\n",
      "          http://example.org/alegacionFiscalia In an August 2017 letter Cohen sent to congressional committees investigating Russian election interference, he falsely stated that the project ended in January 2016\n",
      "          http://example.org/delito http://example.org/MentirAlCongreso\n",
      "          http://example.org/mentirSobre http://example.org/EstadoBienesRaicesTrump\n",
      "          http://example.org/alegacionMullerInvestigation Cohen falsely stated that he had never agreed to travel to Russia for the real estate deal and that he did not recall any contact with the Russian government about the project\n",
      "  http://example.org/previousAddress n4e3411ba7ef5416a96dd795c17c3fde0b2\n",
      "      http://example.org/residence http://example.org/The_White_House\n",
      "      http://example.org/postalCode 20500\n",
      "      http://example.org/streetName 1600 Pennsylvania Ave.\n",
      "      http://example.org/city http://example.org/Washington_DC\n",
      "      http://example.org/phoneNumber 1 202 456 1414\n",
      "  http://example.org/marriedTo http://example.org/Melania_Trump\n",
      "  http://example.org/consejero_inv http://example.org/Michael_Flynn\n",
      "      http://example.org/declaradoCulpableDe Na0e2aeafc25a4c9f9601052d952410de\n",
      "          http://example.org/delito http://example.org/MentirAlFBI\n",
      "          http://example.org/mintioSobre His communications with a former Russian ambassador during the presidential transition\n",
      "          http://example.org/acuerdoCulpabilidad true\n",
      "          http://example.org/declaroCulpableEn 2017-12-01\n",
      "      http://example.org/involucro_inv http://example.org/Investigacion_Muller\n",
      "          http://example.org/involucro http://example.org/George_Papadopoulos\n",
      "          http://example.org/dirigidaPor http://example.org/Robert_Muller\n",
      "          http://example.org/involucro http://example.org/Roger_Stone\n",
      "  http://example.org/fatherTo n4e3411ba7ef5416a96dd795c17c3fde0b3\n",
      "      http://www.w3.org/1999/02/22-rdf-syntax-ns#rest n4e3411ba7ef5416a96dd795c17c3fde0b4\n",
      "          http://www.w3.org/1999/02/22-rdf-syntax-ns#first http://example.org/Donald_Trump_Jr\n",
      "          http://www.w3.org/1999/02/22-rdf-syntax-ns#rest n4e3411ba7ef5416a96dd795c17c3fde0b5\n",
      "              http://www.w3.org/1999/02/22-rdf-syntax-ns#first http://example.org/\n",
      "              http://www.w3.org/1999/02/22-rdf-syntax-ns#rest n4e3411ba7ef5416a96dd795c17c3fde0b6\n",
      "                  http://www.w3.org/1999/02/22-rdf-syntax-ns#first http://example.org/Tiffany_Trump\n",
      "                  http://www.w3.org/1999/02/22-rdf-syntax-ns#rest n4e3411ba7ef5416a96dd795c17c3fde0b7\n",
      "                      http://www.w3.org/1999/02/22-rdf-syntax-ns#first http://example.org/Eric_Trump\n",
      "      http://www.w3.org/1999/02/22-rdf-syntax-ns#first http://example.org/Ivanka_Trump\n",
      "  http://example.org/address n4e3411ba7ef5416a96dd795c17c3fde0b1\n",
      "      http://example.org/country http://example.org/United_States\n",
      "      http://example.org/state http://example.org/Florida\n",
      "      http://example.org/postalCode 33480\n",
      "      http://example.org/city http://example.org/Palm_Beach\n",
      "      http://example.org/streetName 1100 S Ocean Blvd\n",
      "      http://example.org/residence http://example.org/Mar_a_Lago\n",
      "  http://example.org/jefe_campaña_inv http://example.org/Paul_Manafort\n",
      "      http://example.org/enviado http://example.org/Prision\n",
      "      http://example.org/condenado http://example.org/FraudeBancario\n",
      "      http://example.org/condenado http://example.org/FraudeFiscal\n",
      "      http://example.org/acusado http://example.org/Cabildeo\n",
      "          http://www.w3.org/1999/02/22-rdf-syntax-ns#first_inv Neb85f20ece2c4967ba1847a0ec7beced\n",
      "      http://example.org/acusado http://example.org/EvasionFiscal\n",
      "          http://www.w3.org/1999/02/22-rdf-syntax-ns#first_inv N2b35e3d29e7d4fe582016075f9c0a5b0\n",
      "              http://www.w3.org/1999/02/22-rdf-syntax-ns#rest_inv N601ae7982b1d413cb660ba84d1c32719\n",
      "                  http://www.w3.org/1999/02/22-rdf-syntax-ns#first http://example.org/lavadoDinero\n",
      "      http://example.org/declaroCulpable http://example.org/Conspiracion\n",
      "          http://www.w3.org/1999/02/22-rdf-syntax-ns#first_inv N85ecb86bdc08435ab48f4c470541a1f6\n",
      "              http://www.w3.org/1999/02/22-rdf-syntax-ns#rest_inv N0f3a22b2388849e38561d6cc6659c1e3\n",
      "              http://www.w3.org/1999/02/22-rdf-syntax-ns#rest http://www.w3.org/1999/02/22-rdf-syntax-ns#nil\n",
      "                  http://www.w3.org/1999/02/22-rdf-syntax-ns#rest_inv n4e3411ba7ef5416a96dd795c17c3fde0b8\n",
      "                      http://www.w3.org/1999/02/22-rdf-syntax-ns#first http://example.org/Barron_Trump\n",
      "      http://example.org/socio_comercial http://example.org/Rick_Gates\n",
      "          http://example.org/declaradoCulpableDe N3847389fb10a4e17b9b6217a9114b073\n",
      "              http://example.org/declaradoCulpable 2018-02-23\n",
      "      http://example.org/negocio http://example.org/AcuerdoCulpabilidad\n",
      "      http://example.org/acusado http://example.org/LavadoDinero\n"
     ]
    }
   ],
   "source": [
    "# newGraph.serialize(format=\"ttl\")    \n",
    "tree = create_Tree(newGraph, [ex.Donald_Trump])\n",
    "print_Tree(tree, ex.Donald_Trump)"
   ]
  }
 ],
 "metadata": {
  "kernelspec": {
   "display_name": "grafos_tutorial",
   "language": "python",
   "name": "python3"
  },
  "language_info": {
   "codemirror_mode": {
    "name": "ipython",
    "version": 3
   },
   "file_extension": ".py",
   "mimetype": "text/x-python",
   "name": "python",
   "nbconvert_exporter": "python",
   "pygments_lexer": "ipython3",
   "version": "3.11.4"
  },
  "orig_nbformat": 4
 },
 "nbformat": 4,
 "nbformat_minor": 2
}
